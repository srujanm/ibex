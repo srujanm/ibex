{
 "cells": [
  {
   "cell_type": "code",
   "execution_count": 1,
   "metadata": {},
   "outputs": [
    {
     "name": "stderr",
     "output_type": "stream",
     "text": [
      "/home/srujanm/anaconda2/envs/em/lib/python2.7/site-packages/h5py/__init__.py:36: FutureWarning: Conversion of the second argument of issubdtype from `float` to `np.floating` is deprecated. In future, it will be treated as `np.float64 == np.dtype(float).type`.\n",
      "  from ._conv import register_converters as _register_converters\n"
     ]
    },
    {
     "name": "stdout",
     "output_type": "stream",
     "text": [
      "(90, 540, 488)\n"
     ]
    }
   ],
   "source": [
    "# load segmentation data\n",
    "\n",
    "import numpy as np\n",
    "import h5py\n",
    "\n",
    "# set segmentation filename\n",
    "seg_file = \"/home/srujanm/cerebellum/data/gt48nm_cropped_relabeled_pf_0014.h5\"\n",
    "\n",
    "seg = np.array(h5py.File(seg_file,'r')['main'])\n",
    "seg_name = \"helloworld\" # give the segmentation a name of your choice\n",
    "res = (30, 48, 48) # resolution of segmentation data in (nm, nm, nm) in order (Z,Y,X)\n",
    "print seg.shape"
   ]
  },
  {
   "cell_type": "code",
   "execution_count": 2,
   "metadata": {},
   "outputs": [],
   "source": [
    "# creates a .meta file with segmentation properties, used globally by skeletonization routines\n",
    "import os\n",
    "\n",
    "if not os.path.isdir('./meta/'):\n",
    "    os.mkdir('./meta/')\n",
    "meta = open(\"./meta/\" + seg_name +'.meta', \"w\")\n",
    "meta.write(\"# resolution in nm\\n\")\n",
    "meta.write(\"%dx%dx%d\\n\"%(res[2], res[1], res[0]))\n",
    "meta.write(\"# grid size\\n\")\n",
    "meta.write(\"%dx%dx%d\\n\"%(seg.shape[2], seg.shape[1], seg.shape[0]))\n",
    "meta.close()"
   ]
  },
  {
   "cell_type": "code",
   "execution_count": 3,
   "metadata": {},
   "outputs": [],
   "source": [
    "def check_ids(seg):\n",
    "    \"\"\"\n",
    "    checks if all IDs in segmentation are consecutive\n",
    "    Args:\n",
    "        seg (ndarray): segmentation data\n",
    "    \"\"\"\n",
    "    seg_ids = np.unique(seg)\n",
    "    max_id = np.max(seg_ids)\n",
    "    n_ids = len(seg_ids)\n",
    "    try:\n",
    "        assert max_id == n_ids-1\n",
    "    except:\n",
    "        missing_ids = np.sort(np.array(list(set(range(max_id+1)).difference(set(seg_ids)))))\n",
    "        print \"Error! Labels in segmentation are not consecutive. %d IDs are missing\"%(len(missing_ids))\n",
    "        print missing_ids"
   ]
  },
  {
   "cell_type": "code",
   "execution_count": 4,
   "metadata": {},
   "outputs": [],
   "source": [
    "def relabel(seg):\n",
    "    \"\"\"\n",
    "    Relabels a segmentation such that max ID = # objects\n",
    "    Args:\n",
    "        seg (ndarray): 3D segmentation\n",
    "    Returns:\n",
    "        seg_relabeled (ndarray)\n",
    "    \"\"\"\n",
    "    seg_ids = np.unique(seg)\n",
    "    n_ids = len(seg_ids)\n",
    "    max_id = np.max(seg_ids)\n",
    "    if max_id == n_ids-1:\n",
    "        return seg\n",
    "    missing_ids = np.sort(np.array(list(set(range(max_id+1)).difference(set(seg_ids)))))\n",
    "    seg_relabel = seg\n",
    "    for i in range(len(missing_ids)):\n",
    "        if i==len(missing_ids)-1:\n",
    "            ids_to_correct = range(missing_ids[i]+1, max_id+1)\n",
    "        else:\n",
    "            ids_to_correct = range(missing_ids[i]+1, missing_ids[i+1])\n",
    "        for j in ids_to_correct:\n",
    "            seg_relabel[seg==j] = j-(i+1) #TODO (Jeff): speed this up using object-wise bounding boxes\n",
    "    return seg_relabel"
   ]
  },
  {
   "cell_type": "code",
   "execution_count": 5,
   "metadata": {},
   "outputs": [
    {
     "name": "stdout",
     "output_type": "stream",
     "text": [
      "Downsampling to resolution (80, 80, 80) in 0.459539175034 seconds\n",
      "Topological thinning time for (80, 80, 80): 7.22298812866\n",
      "Endpoint vector time for (80, 80, 80): 1.63487100601\n",
      "Edge finding time for (80, 80, 80): 0.310307025909\n"
     ]
    }
   ],
   "source": [
    "# run skeletonization routines\n",
    "import os \n",
    "\n",
    "from ibex.transforms.seg2seg import DownsampleMapping\n",
    "from ibex.skeletonization.generate_skeletons import TopologicalThinning, FindEndpointVectors, FindEdges\n",
    "\n",
    "dsmpl_res = (80,80,80) # downsample segmentation to this resolution in (nm, nm, nm) before skeletonization\n",
    "if not os.path.isdir('./skeletons/'): # skeleton results are saved to ./skeletons/<seg_name>/\n",
    "    os.mkdir('./skeletons/')\n",
    "seg = seg.astype(np.int64)\n",
    "check_ids(seg) \n",
    "# if check_ids fails, relabel your segmentation using the relabel function\n",
    "# seg = relabel(seg)\n",
    "\n",
    "# results will be saved to ./skeletons/<seg_name>\n",
    "DownsampleMapping(seg_name, seg, output_resolution=dsmpl_res)\n",
    "TopologicalThinning(seg_name, seg, skeleton_resolution=dsmpl_res)\n",
    "FindEndpointVectors(seg_name, skeleton_resolution=dsmpl_res)\n",
    "FindEdges(seg_name, skeleton_resolution=dsmpl_res)"
   ]
  },
  {
   "cell_type": "code",
   "execution_count": 6,
   "metadata": {},
   "outputs": [
    {
     "name": "stdout",
     "output_type": "stream",
     "text": [
      "1003\n"
     ]
    }
   ],
   "source": [
    "# read skeletons\n",
    "from ibex.utilities.dataIO import ReadSkeletons\n",
    "skeletons = ReadSkeletons(seg_name, downsample_resolution=dsmpl_res, read_edges=True)\n",
    "print len(skeletons)"
   ]
  },
  {
   "cell_type": "code",
   "execution_count": 7,
   "metadata": {},
   "outputs": [],
   "source": [
    "# generate 3D plot of skeleton for object of interest\n",
    "# result will be saved to ./skeletons/<seg_name>\n",
    "skel_id = 347\n",
    "skeletons[skel_id].save_image('./skeletons/'+seg_name+'/')"
   ]
  },
  {
   "cell_type": "code",
   "execution_count": null,
   "metadata": {},
   "outputs": [],
   "source": []
  }
 ],
 "metadata": {
  "kernelspec": {
   "display_name": "Python 2",
   "language": "python",
   "name": "python2"
  },
  "language_info": {
   "codemirror_mode": {
    "name": "ipython",
    "version": 2
   },
   "file_extension": ".py",
   "mimetype": "text/x-python",
   "name": "python",
   "nbconvert_exporter": "python",
   "pygments_lexer": "ipython2",
   "version": "2.7.15"
  }
 },
 "nbformat": 4,
 "nbformat_minor": 2
}
